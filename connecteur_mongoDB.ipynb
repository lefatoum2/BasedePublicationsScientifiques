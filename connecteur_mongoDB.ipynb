{
 "cells": [
  {
   "cell_type": "markdown",
   "metadata": {},
   "source": [
    "## 1) Import des modules :"
   ]
  },
  {
   "cell_type": "code",
   "execution_count": null,
   "metadata": {},
   "outputs": [],
   "source": [
    "from pymongo import MongoClient\n",
    "import json"
   ]
  },
  {
   "cell_type": "markdown",
   "metadata": {},
   "source": [
    "## 2) Création du client "
   ]
  },
  {
   "cell_type": "code",
   "execution_count": null,
   "metadata": {},
   "outputs": [],
   "source": [
    "# Création de l'objet client avec le port :\n",
    "client = MongoClient('localhost', 27017)\n",
    "db = client.DBLP.publis"
   ]
  },
  {
   "cell_type": "markdown",
   "metadata": {},
   "source": [
    "## 3) Ajout des documents en base à partir du JSON :"
   ]
  },
  {
   "cell_type": "code",
   "execution_count": null,
   "metadata": {},
   "outputs": [],
   "source": [
    "chemin = 'dblp.json'\n",
    "\n",
    "\n",
    "def ajout_documents_en_base (chemin) :\n",
    "    \n",
    "    # Création de la liste de documents à partir du fichier json :\n",
    "    liste_dblp = list(open(chemin, 'r'))\n",
    "\n",
    "    percent_count = 0\n",
    "    absolute_count = 0\n",
    "    error_count = 0\n",
    "\n",
    "    # On boucle sur la liste :\n",
    "    for line in liste_dblp:\n",
    "        #On essaie d'insérer la ligne dans la collection publis de la base DBLP crées implicitement :\n",
    "        try:\n",
    "            client.DBLP.publis.insert_one(json.loads(line))\n",
    "        except:\n",
    "            # On incrémente le compteur d'erreur si la ligne n'a pas pu être ajoutée :\n",
    "            error_count += 1\n",
    "            print(error_count, \"error(s)\")\n",
    "            pass\n",
    "        absolute_count +=1\n",
    "\n",
    "        # Comptage du nombre de documents ajoutés :\n",
    "        if int((absolute_count / len(liste_dblp)) * 100) > percent_count:\n",
    "            percent_count += 1\n",
    "            print(percent_count, \"/\", len(liste_dblp))\n",
    "\n",
    "    print(\"Insertion terminée.\")\n",
    "    \n",
    "ajout_documents_en_base(chemin)"
   ]
  },
  {
   "cell_type": "markdown",
   "metadata": {},
   "source": [
    "## 4) Fonctions demandées :"
   ]
  },
  {
   "cell_type": "markdown",
   "metadata": {},
   "source": [
    "Requêtes par script demandées dans le brief"
   ]
  },
  {
   "cell_type": "code",
   "execution_count": null,
   "metadata": {},
   "outputs": [],
   "source": [
    "# 1) Compter nombre de docs :\n",
    "# Forme dépréciée :\n",
    "#client.DBLP.publis.find({}).count()\n",
    "\n",
    "# Forme conseillée\n",
    "def tous_documents():\n",
    "    resultat = db.count_documents({})\n",
    "    print(\"Il y a\", resultat, \"documents en base.\")\n",
    "\n",
    "tous_documents()"
   ]
  },
  {
   "cell_type": "code",
   "execution_count": null,
   "metadata": {
    "scrolled": true
   },
   "outputs": [],
   "source": [
    "# 2) Lister tous les livres (type “Book”) :\n",
    "def tous_types_book():\n",
    "    resultat = db.find({\"type\" : \"Book\"}, {\"_id\" : 0})\n",
    "\n",
    "    for r in resultat:\n",
    "        print(r)\n",
    "        print()\n",
    "        \n",
    "tous_types_book()"
   ]
  },
  {
   "cell_type": "code",
   "execution_count": null,
   "metadata": {
    "scrolled": false
   },
   "outputs": [],
   "source": [
    "# 3) Lister les livres depuis 2014 :\n",
    "def tous_livres_depuis(annee):\n",
    "    resultat = db.find({\"year\" : {\"$gte\" : annee}}, {\"_id\" : 0})\n",
    "\n",
    "    for r in resultat:\n",
    "        print(r)\n",
    "        print()\n",
    "\n",
    "tous_livres_depuis(2014)"
   ]
  },
  {
   "cell_type": "code",
   "execution_count": null,
   "metadata": {},
   "outputs": [],
   "source": [
    "# 4) Liste des publications de Toru Ishida\n",
    "def toutes_publis_auteur(auteur):\n",
    "    resultat = db.find({\"authors\": auteur}, {\"_id\" : 0})\n",
    "    for r in resultat:\n",
    "        print(r)\n",
    "        print()\n",
    "        \n",
    "toutes_publis_auteur(\"Toru Ishida\")"
   ]
  },
  {
   "cell_type": "code",
   "execution_count": null,
   "metadata": {},
   "outputs": [],
   "source": [
    "# 5) Liste des auteurs distincts\n",
    "def tous_auteurs():\n",
    "    resultat = db.distinct(\"authors\")\n",
    "    for r in resultat:\n",
    "        print(r)\n",
    "        print()\n",
    "        \n",
    "tous_auteurs()"
   ]
  },
  {
   "cell_type": "code",
   "execution_count": null,
   "metadata": {},
   "outputs": [],
   "source": [
    "# 6) Trier les publications de Toru Ishida par titre de livre\n",
    "def publis_par_auteur_triees(auteur):\n",
    "    \n",
    "    resultat = db.find({\"$query\": {\"authors\": auteur}, \"$orderby\": {\"title\": 1}},{\"_id\" : 0})\n",
    "    for r in resultat:\n",
    "        print(r)\n",
    "        print()\n",
    "        \n",
    "        # Pour utiliser la fonction :\n",
    "        #publis_par_auteur_triees(\"Toru Ishida\") \n",
    "        \n",
    "publis_par_auteur_triees(\"Toru Ishida\")"
   ]
  },
  {
   "cell_type": "code",
   "execution_count": null,
   "metadata": {},
   "outputs": [],
   "source": [
    "#7)  Compter le nombre de  publication de Toru Ishida :\n",
    "def nb_publis_auteur(auteur):\n",
    "    resultat = db.count_documents({\"authors\":auteur})\n",
    "    print(\"Toru Ishida a fait\",resultat, \"publications\")\n",
    "nb_publis_auteur(\"Toru Ishida\")"
   ]
  },
  {
   "cell_type": "code",
   "execution_count": null,
   "metadata": {},
   "outputs": [],
   "source": [
    "#8)  Compter le nombre de publications depuis 2011 et par type :\n",
    "def nb_publis_depuis_annee (annee):\n",
    "    compteuranneetype =  db.find({\"year\":{\"$gte\":annee}})\n",
    "    liste_types  = compteuranneetype.distinct( \"type\" )\n",
    "\n",
    "    for type in liste_types :\n",
    "\n",
    "        print(\"Depuis 2011,\",db.count_documents({\"type\" : type}),type+\"(s)\",\"ont été publiés\")\n",
    "\n",
    "nb_publis_depuis_annee(2011)"
   ]
  },
  {
   "cell_type": "code",
   "execution_count": null,
   "metadata": {
    "scrolled": true
   },
   "outputs": [],
   "source": [
    "    \n",
    "#9) Compter le nombre de publications par auteur et trier le résultat par ordre croissant :\n",
    "def nb_publis_par_auteur ():\n",
    "    x = db.aggregate([{ \"$unwind\" : \"$authors\" },\n",
    "                      {\"$group\": { \"_id\" : \"$authors\", \"total\": { \"$sum\": 1 } } },\n",
    "                      {\"$sort\": {\"total\":1} }\n",
    "                      ])\n",
    "\n",
    "    for i in x:\n",
    "        print(i)\n",
    "\n",
    "nb_publis_par_auteur ()"
   ]
  },
  {
   "cell_type": "markdown",
   "metadata": {},
   "source": [
    "## 4) Script facultatif avec demande de chemin et insertion JSON"
   ]
  },
  {
   "cell_type": "code",
   "execution_count": null,
   "metadata": {
    "scrolled": true
   },
   "outputs": [],
   "source": [
    "def ajout_documents_en_base_V2() :\n",
    "    \n",
    "    chemin_ok = False\n",
    "    \n",
    "    while chemin_ok != True :\n",
    "        chemin = str(input(\"Veuillez insérez le chemin vers le fichier JSON à importer.\"))\n",
    "\n",
    "        if chemin.isnumeric() == False:\n",
    "\n",
    "            try :\n",
    "                # Création de la liste de documents à partir du fichier json :\n",
    "                liste_dblp = list(open(chemin, 'r'))\n",
    "                chemin_ok = True\n",
    "\n",
    "            except :\n",
    "                print(\"chemin invalide\")\n",
    "\n",
    "        else : \n",
    "            print(\"Veuillez entrer un chemin valide vers un fichier JSON\")\n",
    "\n",
    "    # Création de l'objet client avec le port :\n",
    "    client = MongoClient('localhost', 27017)\n",
    "    \n",
    "    percent_count = 0\n",
    "    absolute_count = 0\n",
    "    error_count = 0\n",
    "\n",
    "    test_collec = input(\"Entre le nom de la collection à remplir\")\n",
    "\n",
    "    # On boucle sur la liste :\n",
    "    for line in liste_dblp:\n",
    "        # Dans la database DBLP créée implicitement, on essaie d'insérer la ligne dans la collection\n",
    "        # dont le nom est dans la var test_collec.\n",
    "        try:\n",
    "            client.DBLP[test_collec].insert_one(json.loads(line))\n",
    "        except:\n",
    "            # On incrémente le compteur d'erreur si la ligne n'a pas pu être ajoutée :\n",
    "            error_count += 1\n",
    "            print(error_count, \"error(s)\")\n",
    "            pass\n",
    "        absolute_count +=1\n",
    "\n",
    "        # Comptage du nombre de documents ajoutés :\n",
    "        if int((absolute_count / len(liste_dblp)) * 100) > percent_count:\n",
    "            percent_count += 1\n",
    "            print(percent_count, \"/\", len(liste_dblp))\n",
    "            \n",
    "\n",
    "    print(\"Insertion terminée.\")\n",
    "\n",
    "ajout_documents_en_base_V2()"
   ]
  }
 ],
 "metadata": {
  "kernelspec": {
   "display_name": "Python 3",
   "language": "python",
   "name": "python3"
  },
  "language_info": {
   "codemirror_mode": {
    "name": "ipython",
    "version": 3
   },
   "file_extension": ".py",
   "mimetype": "text/x-python",
   "name": "python",
   "nbconvert_exporter": "python",
   "pygments_lexer": "ipython3",
   "version": "3.8.5"
  },
  "varInspector": {
   "cols": {
    "lenName": 16,
    "lenType": 16,
    "lenVar": 40
   },
   "kernels_config": {
    "python": {
     "delete_cmd_postfix": "",
     "delete_cmd_prefix": "del ",
     "library": "var_list.py",
     "varRefreshCmd": "print(var_dic_list())"
    },
    "r": {
     "delete_cmd_postfix": ") ",
     "delete_cmd_prefix": "rm(",
     "library": "var_list.r",
     "varRefreshCmd": "cat(var_dic_list()) "
    }
   },
   "types_to_exclude": [
    "module",
    "function",
    "builtin_function_or_method",
    "instance",
    "_Feature"
   ],
   "window_display": false
  }
 },
 "nbformat": 4,
 "nbformat_minor": 4
}
